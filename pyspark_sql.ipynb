{
 "metadata": {
  "language_info": {
   "codemirror_mode": {
    "name": "ipython",
    "version": 3
   },
   "file_extension": ".py",
   "mimetype": "text/x-python",
   "name": "python",
   "nbconvert_exporter": "python",
   "pygments_lexer": "ipython3",
   "version": "3.8.3"
  },
  "orig_nbformat": 2,
  "kernelspec": {
   "name": "python383jvsc74a57bd09207281d633ec4793dd2bb34f7e64ebd350a77d14b4d28afa8f3f04268f63fb8",
   "display_name": "Python 3.8.3 32-bit"
  }
 },
 "nbformat": 4,
 "nbformat_minor": 2,
 "cells": [
  {
   "cell_type": "code",
   "execution_count": 19,
   "metadata": {},
   "outputs": [],
   "source": [
    "import pyspark as ps\n",
    "spark=ps.sql.SparkSession.builder.master(\"local\").appName(\"Firstapp\").getOrCreate()"
   ]
  },
  {
   "cell_type": "code",
   "execution_count": 13,
   "metadata": {},
   "outputs": [
    {
     "output_type": "execute_result",
     "data": {
      "text/plain": [
       "pyspark.sql.session.SparkSession"
      ]
     },
     "metadata": {},
     "execution_count": 13
    }
   ],
   "source": [
    "type(spark)"
   ]
  },
  {
   "cell_type": "code",
   "execution_count": 20,
   "metadata": {},
   "outputs": [
    {
     "output_type": "stream",
     "name": "stdout",
     "text": [
      "root\n |-- timestamp: string (nullable = true)\n |-- cnt: integer (nullable = true)\n |-- t1: double (nullable = true)\n |-- t2: double (nullable = true)\n |-- hum: double (nullable = true)\n |-- wind_speed: double (nullable = true)\n |-- weather_code: double (nullable = true)\n |-- is_holiday: double (nullable = true)\n |-- is_weekend: double (nullable = true)\n |-- season: double (nullable = true)\n\n"
     ]
    }
   ],
   "source": [
    "paper_df=spark.read.csv('file:///C:/Users\\josephtjoshy\\Downloads\\papers.csv',header=True,inferSchema=True)\n",
    "paper_df.printSchema()"
   ]
  },
  {
   "cell_type": "code",
   "execution_count": 15,
   "metadata": {},
   "outputs": [
    {
     "output_type": "execute_result",
     "data": {
      "text/plain": [
       "334"
      ]
     },
     "metadata": {},
     "execution_count": 15
    }
   ],
   "source": [
    "paper_df.columns\n",
    "paper_df.count()"
   ]
  },
  {
   "cell_type": "code",
   "execution_count": 15,
   "metadata": {},
   "outputs": [
    {
     "output_type": "stream",
     "name": "stdout",
     "text": [
      "+-------------------+----+----+----+----+----------+------------+----------+----------+------+\n|          timestamp| cnt|  t1|  t2| hum|wind_speed|weather_code|is_holiday|is_weekend|season|\n+-------------------+----+----+----+----+----------+------------+----------+----------+------+\n|2015-01-17 19:00:00| 719| 5.0| 2.0|76.0|      12.0|         1.0|       0.0|       1.0|   3.0|\n|2015-01-24 10:00:00|1086| 5.5| 1.5|68.0|      24.0|         1.0|       0.0|       1.0|   3.0|\n|2015-02-05 08:00:00|2894| 2.0|-1.0|87.0|      11.0|        26.0|       0.0|       0.0|   3.0|\n|2015-02-19 17:00:00|1229| 8.0| 5.0|87.0|      22.0|         7.0|       0.0|       0.0|   3.0|\n|2015-02-27 21:00:00| 504| 6.0| 3.5|76.0|      12.0|         1.0|       0.0|       0.0|   3.0|\n|2015-03-18 01:00:00|  86| 6.0| 4.5|93.0|       6.5|         1.0|       0.0|       0.0|   0.0|\n|2015-03-26 14:00:00| 854|12.0|12.0|56.0|      33.0|         3.0|       0.0|       0.0|   0.0|\n|2015-03-26 17:00:00|2601|11.0|11.0|48.5|      26.0|         2.0|       0.0|       0.0|   0.0|\n|2015-03-28 05:00:00|  90| 9.5| 8.0|91.0|       9.0|         3.0|       0.0|       1.0|   0.0|\n|2015-03-29 04:00:00| 216|10.0| 7.5|88.0|      18.5|         4.0|       0.0|       1.0|   0.0|\n|2015-03-29 16:00:00| 548|12.5|12.5|69.5|      38.5|         7.0|       0.0|       1.0|   0.0|\n|2015-04-02 03:00:00|  23|10.0| 6.5|85.0|      30.5|         7.0|       0.0|       0.0|   0.0|\n|2015-04-16 10:00:00|1122|13.5|13.5|63.0|      20.5|         1.0|       0.0|       0.0|   0.0|\n|2015-04-25 10:00:00|1141|13.0|13.0|88.0|      15.0|         3.0|       0.0|       1.0|   0.0|\n|2015-05-28 16:00:00|2057|17.0|17.0|34.0|      21.0|         1.0|       0.0|       0.0|   0.0|\n|2015-06-20 18:00:00|1039|17.5|17.5|91.0|       2.0|         7.0|       0.0|       1.0|   1.0|\n|2015-07-04 10:00:00|1823|24.0|24.0|57.0|      28.0|         2.0|       0.0|       1.0|   1.0|\n|2015-07-25 19:00:00|2147|20.0|20.0|44.5|       7.5|         1.0|       0.0|       1.0|   1.0|\n|2015-08-08 14:00:00|3198|24.5|24.5|50.5|      16.0|         3.0|       0.0|       1.0|   1.0|\n|2015-08-08 18:00:00|3052|23.0|23.0|53.0|      22.0|         1.0|       0.0|       1.0|   1.0|\n+-------------------+----+----+----+----+----------+------------+----------+----------+------+\nonly showing top 20 rows\n\n"
     ]
    }
   ],
   "source": [
    "paper_df.select(\"*\").distinct().show()"
   ]
  },
  {
   "cell_type": "code",
   "execution_count": 9,
   "metadata": {},
   "outputs": [
    {
     "output_type": "error",
     "ename": "AnalysisException",
     "evalue": "cannot resolve '`season`' given input columns: [DATAFLOW, OBS_FLAG, OBS_VALUE, TIME_PERIOD, freq, geo, indic, s_adj, unit];\n'Project ['season]\n+- Relation[DATAFLOW#16,freq#17,indic#18,s_adj#19,unit#20,geo#21,TIME_PERIOD#22,OBS_VALUE#23,OBS_FLAG#24] csv\n",
     "traceback": [
      "\u001b[1;31m---------------------------------------------------------------------------\u001b[0m",
      "\u001b[1;31mAnalysisException\u001b[0m                         Traceback (most recent call last)",
      "\u001b[1;32m<ipython-input-9-fc3bf3da6265>\u001b[0m in \u001b[0;36m<module>\u001b[1;34m\u001b[0m\n\u001b[1;32m----> 1\u001b[1;33m \u001b[0mpaper_df\u001b[0m\u001b[1;33m.\u001b[0m\u001b[0mdescribe\u001b[0m\u001b[1;33m(\u001b[0m\u001b[1;34m\"season\"\u001b[0m\u001b[1;33m)\u001b[0m\u001b[1;33m.\u001b[0m\u001b[0mshow\u001b[0m\u001b[1;33m(\u001b[0m\u001b[1;33m)\u001b[0m\u001b[1;33m\u001b[0m\u001b[1;33m\u001b[0m\u001b[0m\n\u001b[0m",
      "\u001b[1;32m~\\AppData\\Local\\Programs\\Python\\Python38-32\\lib\\site-packages\\pyspark\\sql\\dataframe.py\u001b[0m in \u001b[0;36mdescribe\u001b[1;34m(self, *cols)\u001b[0m\n\u001b[0;32m   1489\u001b[0m         \u001b[1;32mif\u001b[0m \u001b[0mlen\u001b[0m\u001b[1;33m(\u001b[0m\u001b[0mcols\u001b[0m\u001b[1;33m)\u001b[0m \u001b[1;33m==\u001b[0m \u001b[1;36m1\u001b[0m \u001b[1;32mand\u001b[0m \u001b[0misinstance\u001b[0m\u001b[1;33m(\u001b[0m\u001b[0mcols\u001b[0m\u001b[1;33m[\u001b[0m\u001b[1;36m0\u001b[0m\u001b[1;33m]\u001b[0m\u001b[1;33m,\u001b[0m \u001b[0mlist\u001b[0m\u001b[1;33m)\u001b[0m\u001b[1;33m:\u001b[0m\u001b[1;33m\u001b[0m\u001b[1;33m\u001b[0m\u001b[0m\n\u001b[0;32m   1490\u001b[0m             \u001b[0mcols\u001b[0m \u001b[1;33m=\u001b[0m \u001b[0mcols\u001b[0m\u001b[1;33m[\u001b[0m\u001b[1;36m0\u001b[0m\u001b[1;33m]\u001b[0m\u001b[1;33m\u001b[0m\u001b[1;33m\u001b[0m\u001b[0m\n\u001b[1;32m-> 1491\u001b[1;33m         \u001b[0mjdf\u001b[0m \u001b[1;33m=\u001b[0m \u001b[0mself\u001b[0m\u001b[1;33m.\u001b[0m\u001b[0m_jdf\u001b[0m\u001b[1;33m.\u001b[0m\u001b[0mdescribe\u001b[0m\u001b[1;33m(\u001b[0m\u001b[0mself\u001b[0m\u001b[1;33m.\u001b[0m\u001b[0m_jseq\u001b[0m\u001b[1;33m(\u001b[0m\u001b[0mcols\u001b[0m\u001b[1;33m)\u001b[0m\u001b[1;33m)\u001b[0m\u001b[1;33m\u001b[0m\u001b[1;33m\u001b[0m\u001b[0m\n\u001b[0m\u001b[0;32m   1492\u001b[0m         \u001b[1;32mreturn\u001b[0m \u001b[0mDataFrame\u001b[0m\u001b[1;33m(\u001b[0m\u001b[0mjdf\u001b[0m\u001b[1;33m,\u001b[0m \u001b[0mself\u001b[0m\u001b[1;33m.\u001b[0m\u001b[0msql_ctx\u001b[0m\u001b[1;33m)\u001b[0m\u001b[1;33m\u001b[0m\u001b[1;33m\u001b[0m\u001b[0m\n\u001b[0;32m   1493\u001b[0m \u001b[1;33m\u001b[0m\u001b[0m\n",
      "\u001b[1;32m~\\AppData\\Local\\Programs\\Python\\Python38-32\\lib\\site-packages\\py4j\\java_gateway.py\u001b[0m in \u001b[0;36m__call__\u001b[1;34m(self, *args)\u001b[0m\n\u001b[0;32m   1302\u001b[0m \u001b[1;33m\u001b[0m\u001b[0m\n\u001b[0;32m   1303\u001b[0m         \u001b[0manswer\u001b[0m \u001b[1;33m=\u001b[0m \u001b[0mself\u001b[0m\u001b[1;33m.\u001b[0m\u001b[0mgateway_client\u001b[0m\u001b[1;33m.\u001b[0m\u001b[0msend_command\u001b[0m\u001b[1;33m(\u001b[0m\u001b[0mcommand\u001b[0m\u001b[1;33m)\u001b[0m\u001b[1;33m\u001b[0m\u001b[1;33m\u001b[0m\u001b[0m\n\u001b[1;32m-> 1304\u001b[1;33m         return_value = get_return_value(\n\u001b[0m\u001b[0;32m   1305\u001b[0m             answer, self.gateway_client, self.target_id, self.name)\n\u001b[0;32m   1306\u001b[0m \u001b[1;33m\u001b[0m\u001b[0m\n",
      "\u001b[1;32m~\\AppData\\Local\\Programs\\Python\\Python38-32\\lib\\site-packages\\pyspark\\sql\\utils.py\u001b[0m in \u001b[0;36mdeco\u001b[1;34m(*a, **kw)\u001b[0m\n\u001b[0;32m    115\u001b[0m                 \u001b[1;31m# Hide where the exception came from that shows a non-Pythonic\u001b[0m\u001b[1;33m\u001b[0m\u001b[1;33m\u001b[0m\u001b[1;33m\u001b[0m\u001b[0m\n\u001b[0;32m    116\u001b[0m                 \u001b[1;31m# JVM exception message.\u001b[0m\u001b[1;33m\u001b[0m\u001b[1;33m\u001b[0m\u001b[1;33m\u001b[0m\u001b[0m\n\u001b[1;32m--> 117\u001b[1;33m                 \u001b[1;32mraise\u001b[0m \u001b[0mconverted\u001b[0m \u001b[1;32mfrom\u001b[0m \u001b[1;32mNone\u001b[0m\u001b[1;33m\u001b[0m\u001b[1;33m\u001b[0m\u001b[0m\n\u001b[0m\u001b[0;32m    118\u001b[0m             \u001b[1;32melse\u001b[0m\u001b[1;33m:\u001b[0m\u001b[1;33m\u001b[0m\u001b[1;33m\u001b[0m\u001b[0m\n\u001b[0;32m    119\u001b[0m                 \u001b[1;32mraise\u001b[0m\u001b[1;33m\u001b[0m\u001b[1;33m\u001b[0m\u001b[0m\n",
      "\u001b[1;31mAnalysisException\u001b[0m: cannot resolve '`season`' given input columns: [DATAFLOW, OBS_FLAG, OBS_VALUE, TIME_PERIOD, freq, geo, indic, s_adj, unit];\n'Project ['season]\n+- Relation[DATAFLOW#16,freq#17,indic#18,s_adj#19,unit#20,geo#21,TIME_PERIOD#22,OBS_VALUE#23,OBS_FLAG#24] csv\n"
     ]
    }
   ],
   "source": [
    "paper_df.describe(\"season\").show()"
   ]
  },
  {
   "cell_type": "code",
   "execution_count": 19,
   "metadata": {},
   "outputs": [
    {
     "output_type": "execute_result",
     "data": {
      "text/plain": [
       "17414"
      ]
     },
     "metadata": {},
     "execution_count": 19
    }
   ],
   "source": [
    "paper_df.dropDuplicates().count()"
   ]
  },
  {
   "cell_type": "code",
   "execution_count": 24,
   "metadata": {},
   "outputs": [],
   "source": [
    "newdata=paper_df.drop('timestamp')"
   ]
  },
  {
   "cell_type": "code",
   "execution_count": 25,
   "metadata": {},
   "outputs": [
    {
     "output_type": "stream",
     "name": "stdout",
     "text": [
      "+---+---+---+-----+----------+------------+----------+----------+------+\n|cnt| t1| t2|  hum|wind_speed|weather_code|is_holiday|is_weekend|season|\n+---+---+---+-----+----------+------------+----------+----------+------+\n|182|3.0|2.0| 93.0|       6.0|         3.0|       0.0|       1.0|   3.0|\n|138|3.0|2.5| 93.0|       5.0|         1.0|       0.0|       1.0|   3.0|\n|134|2.5|2.5| 96.5|       0.0|         1.0|       0.0|       1.0|   3.0|\n| 72|2.0|2.0|100.0|       0.0|         1.0|       0.0|       1.0|   3.0|\n| 47|2.0|0.0| 93.0|       6.5|         1.0|       0.0|       1.0|   3.0|\n+---+---+---+-----+----------+------------+----------+----------+------+\nonly showing top 5 rows\n\n"
     ]
    }
   ],
   "source": [
    "newdata.show(5)"
   ]
  },
  {
   "cell_type": "code",
   "execution_count": 29,
   "metadata": {},
   "outputs": [
    {
     "output_type": "stream",
     "name": "stdout",
     "text": [
      "+-------+-------------------+\n|summary|         is_holiday|\n+-------+-------------------+\n|  count|              17414|\n|   mean|0.02205122315378431|\n| stddev|0.14685436715275973|\n|    min|                0.0|\n|    max|                1.0|\n+-------+-------------------+\n\n"
     ]
    }
   ],
   "source": [
    "newdata.describe('is_holiday').show()"
   ]
  },
  {
   "cell_type": "code",
   "execution_count": null,
   "metadata": {},
   "outputs": [],
   "source": []
  }
 ]
}