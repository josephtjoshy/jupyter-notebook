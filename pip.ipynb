{
 "metadata": {
  "language_info": {
   "codemirror_mode": {
    "name": "ipython",
    "version": 3
   },
   "file_extension": ".py",
   "mimetype": "text/x-python",
   "name": "python",
   "nbconvert_exporter": "python",
   "pygments_lexer": "ipython3",
   "version": "3.8.3"
  },
  "orig_nbformat": 2,
  "kernelspec": {
   "name": "python383jvsc74a57bd09207281d633ec4793dd2bb34f7e64ebd350a77d14b4d28afa8f3f04268f63fb8",
   "display_name": "Python 3.8.3 32-bit"
  }
 },
 "nbformat": 4,
 "nbformat_minor": 2,
 "cells": [
  {
   "cell_type": "code",
   "execution_count": 1,
   "metadata": {},
   "outputs": [],
   "source": [
    "import pyspark as ps\n",
    "from pyspark.ml.feature import StringIndexer\n",
    "from pyspark.ml.feature import OneHotEncoder\n",
    "spark=ps.sql.SparkSession.builder.master(\"local\").appName(\"piip\").getOrCreate()"
   ]
  },
  {
   "cell_type": "code",
   "execution_count": 2,
   "metadata": {},
   "outputs": [
    {
     "output_type": "stream",
     "name": "stdout",
     "text": [
      "+--------------------+----+--------+-----+----+---+-----------+---------+--------+\n|            DATAFLOW|freq|   indic|s_adj|unit|geo|TIME_PERIOD|OBS_VALUE|OBS_FLAG|\n+--------------------+----+--------+-----+----+---+-----------+---------+--------+\n|ESTAT:EI_BSCO_M$D...|   M|BS-FS-LY|  NSA| BAL| AL|    2020-08|    -16.3|    null|\n|ESTAT:EI_BSCO_M$D...|   M|BS-FS-LY|  NSA| BAL| AL|    2020-09|    -14.9|    null|\n|ESTAT:EI_BSCO_M$D...|   M|BS-FS-LY|  NSA| BAL| AL|    2020-10|    -14.9|    null|\n|ESTAT:EI_BSCO_M$D...|   M|BS-FS-LY|  NSA| BAL| AL|    2020-11|    -15.3|    null|\n|ESTAT:EI_BSCO_M$D...|   M|BS-FS-LY|  NSA| BAL| AL|    2020-12|    -16.0|    null|\n+--------------------+----+--------+-----+----+---+-----------+---------+--------+\nonly showing top 5 rows\n\n"
     ]
    }
   ],
   "source": [
    "data=spark.read.csv('file:///C:/Users\\josephtjoshy\\Downloads\\ewdata.csv',header=True,inferSchema=True)\n",
    "data.select('*').show(5)"
   ]
  },
  {
   "cell_type": "code",
   "execution_count": 3,
   "metadata": {},
   "outputs": [
    {
     "output_type": "stream",
     "name": "stdout",
     "text": [
      "+----+--------+-----+----+---+-----------+---------+--------+\n|freq|   indic|s_adj|unit|geo|TIME_PERIOD|OBS_VALUE|OBS_FLAG|\n+----+--------+-----+----+---+-----------+---------+--------+\n|   M|BS-FS-LY|  NSA| BAL| AL|    2020-08|    -16.3|    null|\n|   M|BS-FS-LY|  NSA| BAL| AL|    2020-09|    -14.9|    null|\n|   M|BS-FS-LY|  NSA| BAL| AL|    2020-10|    -14.9|    null|\n|   M|BS-FS-LY|  NSA| BAL| AL|    2020-11|    -15.3|    null|\n|   M|BS-FS-LY|  NSA| BAL| AL|    2020-12|    -16.0|    null|\n|   M|BS-FS-LY|  NSA| BAL| AL|    2021-01|    -14.8|    null|\n|   M|BS-FS-LY|  NSA| BAL| AL|    2021-02|    -13.7|    null|\n|   M|BS-FS-LY|  NSA| BAL| AL|    2021-03|    -16.8|    null|\n|   M|BS-FS-LY|  NSA| BAL| AL|    2021-04|    -16.1|    null|\n|   M|BS-FS-LY|  NSA| BAL| AL|    2021-05|    -13.1|    null|\n|   M|BS-FS-LY|  NSA| BAL| AT|    2020-08|     -5.9|    null|\n|   M|BS-FS-LY|  NSA| BAL| AT|    2020-09|     -3.3|    null|\n|   M|BS-FS-LY|  NSA| BAL| AT|    2020-10|     -5.5|    null|\n|   M|BS-FS-LY|  NSA| BAL| AT|    2020-11|     -6.7|    null|\n|   M|BS-FS-LY|  NSA| BAL| AT|    2020-12|     -6.6|    null|\n|   M|BS-FS-LY|  NSA| BAL| AT|    2021-01|     -8.0|    null|\n|   M|BS-FS-LY|  NSA| BAL| AT|    2021-02|     -5.7|    null|\n|   M|BS-FS-LY|  NSA| BAL| AT|    2021-03|     -5.7|    null|\n|   M|BS-FS-LY|  NSA| BAL| AT|    2021-04|    -10.5|    null|\n|   M|BS-FS-LY|  NSA| BAL| AT|    2021-05|     -4.6|    null|\n+----+--------+-----+----+---+-----------+---------+--------+\nonly showing top 20 rows\n\n"
     ]
    }
   ],
   "source": [
    "data=data.drop('DATAFLOW')\n",
    "data.show()"
   ]
  },
  {
   "cell_type": "code",
   "execution_count": 7,
   "metadata": {},
   "outputs": [
    {
     "output_type": "stream",
     "name": "stdout",
     "text": [
      "+----+-------+\n|freq|freqnum|\n+----+-------+\n|   M|    0.0|\n+----+-------+\n\n"
     ]
    }
   ],
   "source": [
    "uniq=data.select('freq').distinct()\n",
    "inde=StringIndexer(inputCol='freq',outputCol='freqnum')\n",
    "indexmod=inde.fit(uniq)\n",
    "indexdf=indexmod.transform(uniq)\n",
    "indexdf.show()"
   ]
  },
  {
   "cell_type": "code",
   "execution_count": 11,
   "metadata": {},
   "outputs": [],
   "source": [
    "from pyspark.ml import Pipeline\n",
    "pipe=Pipeline(stages=[inde])\n",
    "pipelineModel=pipe.fit(data)\n",
    "pipeTra=pipelineModel.transform(data)"
   ]
  },
  {
   "cell_type": "code",
   "execution_count": 12,
   "metadata": {},
   "outputs": [
    {
     "output_type": "stream",
     "name": "stdout",
     "text": [
      "+----+--------+-----+----+---+-----------+---------+--------+-------+\n|freq|   indic|s_adj|unit|geo|TIME_PERIOD|OBS_VALUE|OBS_FLAG|freqnum|\n+----+--------+-----+----+---+-----------+---------+--------+-------+\n|   M|BS-FS-LY|  NSA| BAL| AL|    2020-08|    -16.3|    null|    0.0|\n|   M|BS-FS-LY|  NSA| BAL| AL|    2020-09|    -14.9|    null|    0.0|\n|   M|BS-FS-LY|  NSA| BAL| AL|    2020-10|    -14.9|    null|    0.0|\n|   M|BS-FS-LY|  NSA| BAL| AL|    2020-11|    -15.3|    null|    0.0|\n|   M|BS-FS-LY|  NSA| BAL| AL|    2020-12|    -16.0|    null|    0.0|\n|   M|BS-FS-LY|  NSA| BAL| AL|    2021-01|    -14.8|    null|    0.0|\n|   M|BS-FS-LY|  NSA| BAL| AL|    2021-02|    -13.7|    null|    0.0|\n|   M|BS-FS-LY|  NSA| BAL| AL|    2021-03|    -16.8|    null|    0.0|\n|   M|BS-FS-LY|  NSA| BAL| AL|    2021-04|    -16.1|    null|    0.0|\n|   M|BS-FS-LY|  NSA| BAL| AL|    2021-05|    -13.1|    null|    0.0|\n|   M|BS-FS-LY|  NSA| BAL| AT|    2020-08|     -5.9|    null|    0.0|\n|   M|BS-FS-LY|  NSA| BAL| AT|    2020-09|     -3.3|    null|    0.0|\n|   M|BS-FS-LY|  NSA| BAL| AT|    2020-10|     -5.5|    null|    0.0|\n|   M|BS-FS-LY|  NSA| BAL| AT|    2020-11|     -6.7|    null|    0.0|\n|   M|BS-FS-LY|  NSA| BAL| AT|    2020-12|     -6.6|    null|    0.0|\n|   M|BS-FS-LY|  NSA| BAL| AT|    2021-01|     -8.0|    null|    0.0|\n|   M|BS-FS-LY|  NSA| BAL| AT|    2021-02|     -5.7|    null|    0.0|\n|   M|BS-FS-LY|  NSA| BAL| AT|    2021-03|     -5.7|    null|    0.0|\n|   M|BS-FS-LY|  NSA| BAL| AT|    2021-04|    -10.5|    null|    0.0|\n|   M|BS-FS-LY|  NSA| BAL| AT|    2021-05|     -4.6|    null|    0.0|\n+----+--------+-----+----+---+-----------+---------+--------+-------+\nonly showing top 20 rows\n\n"
     ]
    }
   ],
   "source": [
    "pipeTra.show()"
   ]
  },
  {
   "cell_type": "code",
   "execution_count": 21,
   "metadata": {},
   "outputs": [
    {
     "output_type": "stream",
     "name": "stdout",
     "text": [
      "+--------+-----+----+---+-----------+---------+--------+-------+\n|   indic|s_adj|unit|geo|TIME_PERIOD|OBS_VALUE|OBS_FLAG|freqnum|\n+--------+-----+----+---+-----------+---------+--------+-------+\n|BS-FS-LY|  NSA| BAL| AL|    2020-08|    -16.3|    null|    0.0|\n|BS-FS-LY|  NSA| BAL| AL|    2020-09|    -14.9|    null|    0.0|\n|BS-FS-LY|  NSA| BAL| AL|    2020-10|    -14.9|    null|    0.0|\n|BS-FS-LY|  NSA| BAL| AL|    2020-11|    -15.3|    null|    0.0|\n|BS-FS-LY|  NSA| BAL| AL|    2020-12|    -16.0|    null|    0.0|\n|BS-FS-LY|  NSA| BAL| AL|    2021-01|    -14.8|    null|    0.0|\n|BS-FS-LY|  NSA| BAL| AL|    2021-02|    -13.7|    null|    0.0|\n|BS-FS-LY|  NSA| BAL| AL|    2021-03|    -16.8|    null|    0.0|\n|BS-FS-LY|  NSA| BAL| AL|    2021-04|    -16.1|    null|    0.0|\n|BS-FS-LY|  NSA| BAL| AL|    2021-05|    -13.1|    null|    0.0|\n|BS-FS-LY|  NSA| BAL| AT|    2020-08|     -5.9|    null|    0.0|\n|BS-FS-LY|  NSA| BAL| AT|    2020-09|     -3.3|    null|    0.0|\n|BS-FS-LY|  NSA| BAL| AT|    2020-10|     -5.5|    null|    0.0|\n|BS-FS-LY|  NSA| BAL| AT|    2020-11|     -6.7|    null|    0.0|\n|BS-FS-LY|  NSA| BAL| AT|    2020-12|     -6.6|    null|    0.0|\n|BS-FS-LY|  NSA| BAL| AT|    2021-01|     -8.0|    null|    0.0|\n|BS-FS-LY|  NSA| BAL| AT|    2021-02|     -5.7|    null|    0.0|\n|BS-FS-LY|  NSA| BAL| AT|    2021-03|     -5.7|    null|    0.0|\n|BS-FS-LY|  NSA| BAL| AT|    2021-04|    -10.5|    null|    0.0|\n|BS-FS-LY|  NSA| BAL| AT|    2021-05|     -4.6|    null|    0.0|\n+--------+-----+----+---+-----------+---------+--------+-------+\nonly showing top 20 rows\n\n"
     ]
    }
   ],
   "source": [
    "pipeTra=pipeTra.drop('freq')\n",
    "pipeTra.show()"
   ]
  },
  {
   "cell_type": "code",
   "execution_count": 29,
   "metadata": {},
   "outputs": [
    {
     "output_type": "stream",
     "name": "stdout",
     "text": [
      "root\n |-- indic: string (nullable = true)\n |-- s_adj: string (nullable = true)\n |-- unit: string (nullable = true)\n |-- geo: string (nullable = true)\n |-- TIME_PERIOD: string (nullable = true)\n |-- OBS_VALUE: double (nullable = true)\n |-- OBS_FLAG: string (nullable = true)\n |-- freqnum: double (nullable = false)\n\n"
     ]
    }
   ],
   "source": [
    "pipeTra.printSchema()"
   ]
  },
  {
   "cell_type": "code",
   "execution_count": 32,
   "metadata": {},
   "outputs": [],
   "source": [
    "from pyspark.sql import types\n",
    "from pyspark.sql.functions import col\n",
    "mod=pipeTra.withColumn('freqnum',col('freqnum').cast(\"int\"))"
   ]
  },
  {
   "cell_type": "code",
   "execution_count": 33,
   "metadata": {},
   "outputs": [
    {
     "output_type": "stream",
     "name": "stdout",
     "text": [
      "root\n |-- indic: string (nullable = true)\n |-- s_adj: string (nullable = true)\n |-- unit: string (nullable = true)\n |-- geo: string (nullable = true)\n |-- TIME_PERIOD: string (nullable = true)\n |-- OBS_VALUE: double (nullable = true)\n |-- OBS_FLAG: string (nullable = true)\n |-- freqnum: integer (nullable = true)\n\n"
     ]
    }
   ],
   "source": [
    "mod.printSchema()"
   ]
  },
  {
   "cell_type": "code",
   "execution_count": 34,
   "metadata": {},
   "outputs": [
    {
     "output_type": "stream",
     "name": "stdout",
     "text": [
      "+--------+-----+----+---+-----------+---------+--------+-------+\n|   indic|s_adj|unit|geo|TIME_PERIOD|OBS_VALUE|OBS_FLAG|freqnum|\n+--------+-----+----+---+-----------+---------+--------+-------+\n|BS-FS-LY|  NSA| BAL| AL|    2020-08|    -16.3|    null|      0|\n|BS-FS-LY|  NSA| BAL| AL|    2020-09|    -14.9|    null|      0|\n|BS-FS-LY|  NSA| BAL| AL|    2020-10|    -14.9|    null|      0|\n|BS-FS-LY|  NSA| BAL| AL|    2020-11|    -15.3|    null|      0|\n|BS-FS-LY|  NSA| BAL| AL|    2020-12|    -16.0|    null|      0|\n+--------+-----+----+---+-----------+---------+--------+-------+\nonly showing top 5 rows\n\n"
     ]
    }
   ],
   "source": [
    "mod.select('*').show(5)"
   ]
  },
  {
   "cell_type": "code",
   "execution_count": 35,
   "metadata": {},
   "outputs": [
    {
     "output_type": "stream",
     "name": "stdout",
     "text": [
      "root\n |-- indic: string (nullable = true)\n |-- s_adj: string (nullable = true)\n |-- unit: string (nullable = true)\n |-- geo: string (nullable = true)\n |-- TIME_PERIOD: integer (nullable = true)\n |-- OBS_VALUE: double (nullable = true)\n |-- OBS_FLAG: string (nullable = true)\n |-- freqnum: double (nullable = false)\n\n"
     ]
    }
   ],
   "source": [
    "mod=pipeTra.withColumn('TIME_PERIOD',col('TIME_PERIOD').cast(\"int\"))\n",
    "mod.printSchema()"
   ]
  },
  {
   "cell_type": "code",
   "execution_count": 36,
   "metadata": {},
   "outputs": [
    {
     "output_type": "stream",
     "name": "stdout",
     "text": [
      "+--------+-----+----+---+-----------+---------+--------+-------+\n|   indic|s_adj|unit|geo|TIME_PERIOD|OBS_VALUE|OBS_FLAG|freqnum|\n+--------+-----+----+---+-----------+---------+--------+-------+\n|BS-FS-LY|  NSA| BAL| AL|       null|    -16.3|    null|    0.0|\n|BS-FS-LY|  NSA| BAL| AL|       null|    -14.9|    null|    0.0|\n|BS-FS-LY|  NSA| BAL| AL|       null|    -14.9|    null|    0.0|\n|BS-FS-LY|  NSA| BAL| AL|       null|    -15.3|    null|    0.0|\n|BS-FS-LY|  NSA| BAL| AL|       null|    -16.0|    null|    0.0|\n+--------+-----+----+---+-----------+---------+--------+-------+\nonly showing top 5 rows\n\n"
     ]
    }
   ],
   "source": [
    "mod.show(5)"
   ]
  },
  {
   "cell_type": "code",
   "execution_count": null,
   "metadata": {},
   "outputs": [],
   "source": []
  }
 ]
}