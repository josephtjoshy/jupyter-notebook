{
 "metadata": {
  "language_info": {
   "codemirror_mode": {
    "name": "ipython",
    "version": 3
   },
   "file_extension": ".py",
   "mimetype": "text/x-python",
   "name": "python",
   "nbconvert_exporter": "python",
   "pygments_lexer": "ipython3",
   "version": "3.8.3"
  },
  "orig_nbformat": 2,
  "kernelspec": {
   "name": "python383jvsc74a57bd09207281d633ec4793dd2bb34f7e64ebd350a77d14b4d28afa8f3f04268f63fb8",
   "display_name": "Python 3.8.3 32-bit"
  }
 },
 "nbformat": 4,
 "nbformat_minor": 2,
 "cells": [
  {
   "cell_type": "code",
   "execution_count": 4,
   "metadata": {},
   "outputs": [],
   "source": [
    "import pyspark as ps\n",
    "spark=ps.sql.SparkSession.builder.master(\"local\").appName(\"piip\").getOrCreate()"
   ]
  },
  {
   "cell_type": "code",
   "execution_count": 5,
   "metadata": {},
   "outputs": [
    {
     "output_type": "stream",
     "name": "stdout",
     "text": [
      "+--------------------+----+--------+-----+----+---+-----------+---------+--------+\n|            DATAFLOW|freq|   indic|s_adj|unit|geo|TIME_PERIOD|OBS_VALUE|OBS_FLAG|\n+--------------------+----+--------+-----+----+---+-----------+---------+--------+\n|ESTAT:EI_BSCO_M$D...|   M|BS-FS-LY|  NSA| BAL| AL|    2020-08|    -16.3|    null|\n|ESTAT:EI_BSCO_M$D...|   M|BS-FS-LY|  NSA| BAL| AL|    2020-09|    -14.9|    null|\n|ESTAT:EI_BSCO_M$D...|   M|BS-FS-LY|  NSA| BAL| AL|    2020-10|    -14.9|    null|\n|ESTAT:EI_BSCO_M$D...|   M|BS-FS-LY|  NSA| BAL| AL|    2020-11|    -15.3|    null|\n|ESTAT:EI_BSCO_M$D...|   M|BS-FS-LY|  NSA| BAL| AL|    2020-12|    -16.0|    null|\n+--------------------+----+--------+-----+----+---+-----------+---------+--------+\nonly showing top 5 rows\n\n"
     ]
    }
   ],
   "source": [
    "data=spark.read.csv('file:///C:/Users\\josephtjoshy\\Downloads\\ewdata.csv',header=True,inferSchema=True)\n",
    "data.select('*').show(5)"
   ]
  },
  {
   "cell_type": "code",
   "execution_count": 6,
   "metadata": {},
   "outputs": [
    {
     "output_type": "stream",
     "name": "stdout",
     "text": [
      "+----+--------+-----+----+---+-----------+---------+--------+\n|freq|   indic|s_adj|unit|geo|TIME_PERIOD|OBS_VALUE|OBS_FLAG|\n+----+--------+-----+----+---+-----------+---------+--------+\n|   M|BS-FS-LY|  NSA| BAL| AL|    2020-08|    -16.3|    null|\n|   M|BS-FS-LY|  NSA| BAL| AL|    2020-09|    -14.9|    null|\n|   M|BS-FS-LY|  NSA| BAL| AL|    2020-10|    -14.9|    null|\n|   M|BS-FS-LY|  NSA| BAL| AL|    2020-11|    -15.3|    null|\n|   M|BS-FS-LY|  NSA| BAL| AL|    2020-12|    -16.0|    null|\n|   M|BS-FS-LY|  NSA| BAL| AL|    2021-01|    -14.8|    null|\n|   M|BS-FS-LY|  NSA| BAL| AL|    2021-02|    -13.7|    null|\n|   M|BS-FS-LY|  NSA| BAL| AL|    2021-03|    -16.8|    null|\n|   M|BS-FS-LY|  NSA| BAL| AL|    2021-04|    -16.1|    null|\n|   M|BS-FS-LY|  NSA| BAL| AL|    2021-05|    -13.1|    null|\n|   M|BS-FS-LY|  NSA| BAL| AT|    2020-08|     -5.9|    null|\n|   M|BS-FS-LY|  NSA| BAL| AT|    2020-09|     -3.3|    null|\n|   M|BS-FS-LY|  NSA| BAL| AT|    2020-10|     -5.5|    null|\n|   M|BS-FS-LY|  NSA| BAL| AT|    2020-11|     -6.7|    null|\n|   M|BS-FS-LY|  NSA| BAL| AT|    2020-12|     -6.6|    null|\n|   M|BS-FS-LY|  NSA| BAL| AT|    2021-01|     -8.0|    null|\n|   M|BS-FS-LY|  NSA| BAL| AT|    2021-02|     -5.7|    null|\n|   M|BS-FS-LY|  NSA| BAL| AT|    2021-03|     -5.7|    null|\n|   M|BS-FS-LY|  NSA| BAL| AT|    2021-04|    -10.5|    null|\n|   M|BS-FS-LY|  NSA| BAL| AT|    2021-05|     -4.6|    null|\n+----+--------+-----+----+---+-----------+---------+--------+\nonly showing top 20 rows\n\n"
     ]
    }
   ],
   "source": [
    "data=data.drop('DATAFLOW')\n",
    "data.show()"
   ]
  },
  {
   "cell_type": "code",
   "execution_count": 16,
   "metadata": {},
   "outputs": [
    {
     "output_type": "stream",
     "name": "stdout",
     "text": [
      "+----+\n|freq|\n+----+\n|   M|\n+----+\n\n"
     ]
    }
   ],
   "source": [
    "from pyspark.ml.feature import StringIndexer\n",
    "mod=StringIndexer(inputCol='freq',outputCol='freqnum')\n",
    "uniq=data.select('freq').distinct()\n",
    "modf=mod.fit(uniq)\n",
    "uniq.show()\n",
    "\n"
   ]
  },
  {
   "cell_type": "code",
   "execution_count": null,
   "metadata": {},
   "outputs": [],
   "source": [
    "from pyspark.ml.feature import OneHotEncoder"
   ]
  }
 ]
}