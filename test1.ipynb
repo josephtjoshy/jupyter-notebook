{
 "cells": [
  {
   "cell_type": "code",
   "execution_count": 1,
   "id": "812b7cb7",
   "metadata": {},
   "outputs": [],
   "source": [
    "import findspark\n",
    "findspark.find()\n",
    "findspark.init()\n",
    "from pyspark import SparkContext\n",
    "sc=SparkContext()"
   ]
  },
  {
   "cell_type": "code",
   "execution_count": 2,
   "id": "95aaea99",
   "metadata": {},
   "outputs": [
    {
     "output_type": "execute_result",
     "data": {
      "text/plain": [
       "[1, 2, 3, 4]"
      ]
     },
     "metadata": {},
     "execution_count": 2
    }
   ],
   "source": [
    "a=sc.parallelize([1,2,3,4])\n",
    "a.collect()"
   ]
  },
  {
   "cell_type": "code",
   "execution_count": 3,
   "id": "b945d999",
   "metadata": {},
   "outputs": [
    {
     "output_type": "execute_result",
     "data": {
      "text/plain": [
       "[('joseph', 1), ('gifty', 2), ('unnimol', 3)]"
      ]
     },
     "metadata": {},
     "execution_count": 3
    }
   ],
   "source": [
    "check=sc.parallelize([('joseph',1),('gifty',2),('unnimol',3)])\n",
    "check.collect()"
   ]
  },
  {
   "cell_type": "code",
   "execution_count": 4,
   "id": "6dc4d7d7",
   "metadata": {},
   "outputs": [
    {
     "output_type": "execute_result",
     "data": {
      "text/plain": [
       "[('joseph', 1)]"
      ]
     },
     "metadata": {},
     "execution_count": 4
    }
   ],
   "source": [
    "check.take(1)"
   ]
  },
  {
   "cell_type": "code",
   "execution_count": 5,
   "id": "b0440b57",
   "metadata": {},
   "outputs": [
    {
     "output_type": "execute_result",
     "data": {
      "text/plain": [
       "['https://web.microsoftstream.com/video/eb5e6c29-de87-4048-a3ae-b05384c1e25e - team 51',\n",
       " 'https://web.microsoftstream.com/video/90aea853-59a0-4692-9eea-a5f259ee4c84 - team 52',\n",
       " 'https://web.microsoftstream.com/video/3fe99d3e-302c-48eb-9cb9-365f98bbe795 - team 53',\n",
       " 'https://web.microsoftstream.com/video/deb45f46-c9af-40a3-af88-c8f38ba5ee13 - team 54',\n",
       " 'https://web.microsoftstream.com/video/13adecc2-2178-473e-9168-edb154477955 - team 55']"
      ]
     },
     "metadata": {},
     "execution_count": 5
    }
   ],
   "source": [
    "textdata=sc.textFile(\"file:///C:/Users\\josephtjoshy\\Documents\\links tcs.txt\")\n",
    "textdata.take(5)"
   ]
  },
  {
   "cell_type": "code",
   "execution_count": 6,
   "id": "9727f824",
   "metadata": {},
   "outputs": [
    {
     "output_type": "execute_result",
     "data": {
      "text/plain": [
       "[['\"pmid\",\"doi\",\"journal\",\"country\",\"title\",\"authors\",\"abstract\",\"citation_count\",\"published_at\"'],\n",
       " ['\"34013297\",\"10.1101/2021.04.27.21256185\",\"medRxiv : the preprint server for health sciences\",\"United States\",\"Pre-pandemic mental and physical health as predictors of COVID-19 vaccine hesitancy: evidence from a UK-wide cohort study.\",\"G David Batty, Ian J Deary, Drew Altschul\",\"<Abstract>'],\n",
       " ['                <AbstractText Label=\"\"Importance\"\" NlmCategory=\"\"UNASSIGNED\"\">Although several predictors of COVID-19 vaccine hesitancy have been identified, the role of physical health has not been well-examined, and the association with mental health is unknown.</AbstractText>'],\n",
       " ['                <AbstractText Label=\"\"Objective\"\" NlmCategory=\"\"UNASSIGNED\"\">To examine the association of pre-pandemic mental health, physical health, and shielding with vaccine hesitancy after the announcement of the successful testing of the Oxford University/AstraZeneca vaccine.</AbstractText>']]"
      ]
     },
     "metadata": {},
     "execution_count": 6
    }
   ],
   "source": [
    "csvdata=sc.textFile(\"file:///C:/Users\\josephtjoshy\\Downloads\\papers.csv\").map(lambda element:element.split('\\t'))\n",
    "csvdata.getNumPartitions()\n",
    "csvdata.count()\n",
    "csvdata.take(4)"
   ]
  },
  {
   "cell_type": "code",
   "execution_count": null,
   "id": "fcae53fd",
   "metadata": {},
   "outputs": [],
   "source": []
  }
 ],
 "metadata": {
  "kernelspec": {
   "name": "python383jvsc74a57bd09207281d633ec4793dd2bb34f7e64ebd350a77d14b4d28afa8f3f04268f63fb8",
   "display_name": "Python 3.8.3 32-bit"
  },
  "language_info": {
   "codemirror_mode": {
    "name": "ipython",
    "version": 3
   },
   "file_extension": ".py",
   "mimetype": "text/x-python",
   "name": "python",
   "nbconvert_exporter": "python",
   "pygments_lexer": "ipython3",
   "version": "3.8.3"
  }
 },
 "nbformat": 4,
 "nbformat_minor": 5
}